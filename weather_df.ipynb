{
 "cells": [
  {
   "cell_type": "code",
   "execution_count": 1,
   "id": "522a908c",
   "metadata": {},
   "outputs": [],
   "source": [
    "import warnings\n",
    "\n",
    "warnings.filterwarnings('ignore')"
   ]
  },
  {
   "cell_type": "code",
   "execution_count": 2,
   "id": "7f966c4b",
   "metadata": {},
   "outputs": [
    {
     "data": {
      "text/html": [
       "<div>\n",
       "<style scoped>\n",
       "    .dataframe tbody tr th:only-of-type {\n",
       "        vertical-align: middle;\n",
       "    }\n",
       "\n",
       "    .dataframe tbody tr th {\n",
       "        vertical-align: top;\n",
       "    }\n",
       "\n",
       "    .dataframe thead th {\n",
       "        text-align: right;\n",
       "    }\n",
       "</style>\n",
       "<table border=\"1\" class=\"dataframe\">\n",
       "  <thead>\n",
       "    <tr style=\"text-align: right;\">\n",
       "      <th></th>\n",
       "      <th>Date</th>\n",
       "      <th>Minimum.temperature...C.</th>\n",
       "      <th>Maximum.temperature...C.</th>\n",
       "      <th>Evaporation..mm.</th>\n",
       "      <th>Sunshine..hours.</th>\n",
       "      <th>Direction.of.maximum.wind.gust</th>\n",
       "      <th>Speed.of.maximum.wind.gust..km.h.</th>\n",
       "      <th>Time.of.maximum.wind.gust</th>\n",
       "      <th>X9am.Temperature...C.</th>\n",
       "      <th>X9am.relative.humidity....</th>\n",
       "      <th>...</th>\n",
       "      <th>X3pm.Temperature...C.</th>\n",
       "      <th>X3pm.relative.humidity....</th>\n",
       "      <th>X3pm.cloud.amount..oktas.</th>\n",
       "      <th>X3pm.wind.direction</th>\n",
       "      <th>X3pm.wind.speed..km.h.</th>\n",
       "      <th>X3pm.MSL.pressure..hPa.</th>\n",
       "      <th>Rainfall..mm.</th>\n",
       "      <th>rain.today</th>\n",
       "      <th>Rainfall..mm.tmr</th>\n",
       "      <th>rain.tomorrow</th>\n",
       "    </tr>\n",
       "  </thead>\n",
       "  <tbody>\n",
       "    <tr>\n",
       "      <th>0</th>\n",
       "      <td>01-07-2020</td>\n",
       "      <td>13.2</td>\n",
       "      <td>29.0</td>\n",
       "      <td>NaN</td>\n",
       "      <td>NaN</td>\n",
       "      <td>ENE</td>\n",
       "      <td>31</td>\n",
       "      <td>09:45</td>\n",
       "      <td>21.3</td>\n",
       "      <td>39</td>\n",
       "      <td>...</td>\n",
       "      <td>28.3</td>\n",
       "      <td>25</td>\n",
       "      <td>0</td>\n",
       "      <td>NE</td>\n",
       "      <td>13</td>\n",
       "      <td>1014.1</td>\n",
       "      <td>0.0</td>\n",
       "      <td>No</td>\n",
       "      <td>0.0</td>\n",
       "      <td>No</td>\n",
       "    </tr>\n",
       "    <tr>\n",
       "      <th>1</th>\n",
       "      <td>02-07-2020</td>\n",
       "      <td>8.6</td>\n",
       "      <td>29.8</td>\n",
       "      <td>NaN</td>\n",
       "      <td>NaN</td>\n",
       "      <td>NE</td>\n",
       "      <td>30</td>\n",
       "      <td>13:19</td>\n",
       "      <td>18.2</td>\n",
       "      <td>43</td>\n",
       "      <td>...</td>\n",
       "      <td>29.4</td>\n",
       "      <td>26</td>\n",
       "      <td>0</td>\n",
       "      <td>ESE</td>\n",
       "      <td>15</td>\n",
       "      <td>1015.9</td>\n",
       "      <td>0.0</td>\n",
       "      <td>No</td>\n",
       "      <td>0.0</td>\n",
       "      <td>No</td>\n",
       "    </tr>\n",
       "    <tr>\n",
       "      <th>2</th>\n",
       "      <td>03-07-2020</td>\n",
       "      <td>14.0</td>\n",
       "      <td>27.6</td>\n",
       "      <td>NaN</td>\n",
       "      <td>NaN</td>\n",
       "      <td>SSE</td>\n",
       "      <td>37</td>\n",
       "      <td>14:11</td>\n",
       "      <td>19.6</td>\n",
       "      <td>40</td>\n",
       "      <td>...</td>\n",
       "      <td>27.0</td>\n",
       "      <td>28</td>\n",
       "      <td>0</td>\n",
       "      <td>S</td>\n",
       "      <td>28</td>\n",
       "      <td>1020.9</td>\n",
       "      <td>0.0</td>\n",
       "      <td>No</td>\n",
       "      <td>0.0</td>\n",
       "      <td>No</td>\n",
       "    </tr>\n",
       "    <tr>\n",
       "      <th>3</th>\n",
       "      <td>04-07-2020</td>\n",
       "      <td>12.7</td>\n",
       "      <td>22.9</td>\n",
       "      <td>NaN</td>\n",
       "      <td>NaN</td>\n",
       "      <td>SE</td>\n",
       "      <td>46</td>\n",
       "      <td>09:19</td>\n",
       "      <td>14.9</td>\n",
       "      <td>32</td>\n",
       "      <td>...</td>\n",
       "      <td>22.2</td>\n",
       "      <td>15</td>\n",
       "      <td>0</td>\n",
       "      <td>SE</td>\n",
       "      <td>19</td>\n",
       "      <td>1021.7</td>\n",
       "      <td>0.0</td>\n",
       "      <td>No</td>\n",
       "      <td>0.0</td>\n",
       "      <td>No</td>\n",
       "    </tr>\n",
       "    <tr>\n",
       "      <th>4</th>\n",
       "      <td>05-07-2020</td>\n",
       "      <td>13.3</td>\n",
       "      <td>21.5</td>\n",
       "      <td>NaN</td>\n",
       "      <td>NaN</td>\n",
       "      <td>SSE</td>\n",
       "      <td>37</td>\n",
       "      <td>02:57</td>\n",
       "      <td>14.1</td>\n",
       "      <td>39</td>\n",
       "      <td>...</td>\n",
       "      <td>20.6</td>\n",
       "      <td>24</td>\n",
       "      <td>0</td>\n",
       "      <td>SE</td>\n",
       "      <td>19</td>\n",
       "      <td>1021.1</td>\n",
       "      <td>0.0</td>\n",
       "      <td>No</td>\n",
       "      <td>0.0</td>\n",
       "      <td>No</td>\n",
       "    </tr>\n",
       "    <tr>\n",
       "      <th>...</th>\n",
       "      <td>...</td>\n",
       "      <td>...</td>\n",
       "      <td>...</td>\n",
       "      <td>...</td>\n",
       "      <td>...</td>\n",
       "      <td>...</td>\n",
       "      <td>...</td>\n",
       "      <td>...</td>\n",
       "      <td>...</td>\n",
       "      <td>...</td>\n",
       "      <td>...</td>\n",
       "      <td>...</td>\n",
       "      <td>...</td>\n",
       "      <td>...</td>\n",
       "      <td>...</td>\n",
       "      <td>...</td>\n",
       "      <td>...</td>\n",
       "      <td>...</td>\n",
       "      <td>...</td>\n",
       "      <td>...</td>\n",
       "      <td>...</td>\n",
       "    </tr>\n",
       "    <tr>\n",
       "      <th>422</th>\n",
       "      <td>27-08-2021</td>\n",
       "      <td>3.8</td>\n",
       "      <td>28.9</td>\n",
       "      <td>NaN</td>\n",
       "      <td>NaN</td>\n",
       "      <td>SE</td>\n",
       "      <td>31</td>\n",
       "      <td>10:01</td>\n",
       "      <td>17.8</td>\n",
       "      <td>18</td>\n",
       "      <td>...</td>\n",
       "      <td>27.5</td>\n",
       "      <td>9</td>\n",
       "      <td>0</td>\n",
       "      <td>W</td>\n",
       "      <td>17</td>\n",
       "      <td>1014.0</td>\n",
       "      <td>0.0</td>\n",
       "      <td>No</td>\n",
       "      <td>0.0</td>\n",
       "      <td>No</td>\n",
       "    </tr>\n",
       "    <tr>\n",
       "      <th>423</th>\n",
       "      <td>28-08-2021</td>\n",
       "      <td>4.1</td>\n",
       "      <td>31.2</td>\n",
       "      <td>NaN</td>\n",
       "      <td>NaN</td>\n",
       "      <td>WSW</td>\n",
       "      <td>26</td>\n",
       "      <td>12:00</td>\n",
       "      <td>20.0</td>\n",
       "      <td>18</td>\n",
       "      <td>...</td>\n",
       "      <td>29.8</td>\n",
       "      <td>8</td>\n",
       "      <td>0</td>\n",
       "      <td>S</td>\n",
       "      <td>7</td>\n",
       "      <td>1012.6</td>\n",
       "      <td>0.0</td>\n",
       "      <td>No</td>\n",
       "      <td>0.0</td>\n",
       "      <td>No</td>\n",
       "    </tr>\n",
       "    <tr>\n",
       "      <th>424</th>\n",
       "      <td>29-08-2021</td>\n",
       "      <td>5.7</td>\n",
       "      <td>33.2</td>\n",
       "      <td>NaN</td>\n",
       "      <td>NaN</td>\n",
       "      <td>E</td>\n",
       "      <td>35</td>\n",
       "      <td>11:05</td>\n",
       "      <td>20.8</td>\n",
       "      <td>14</td>\n",
       "      <td>...</td>\n",
       "      <td>32.4</td>\n",
       "      <td>8</td>\n",
       "      <td>0</td>\n",
       "      <td>SE</td>\n",
       "      <td>17</td>\n",
       "      <td>1012.1</td>\n",
       "      <td>0.0</td>\n",
       "      <td>No</td>\n",
       "      <td>0.0</td>\n",
       "      <td>No</td>\n",
       "    </tr>\n",
       "    <tr>\n",
       "      <th>425</th>\n",
       "      <td>30-08-2021</td>\n",
       "      <td>8.1</td>\n",
       "      <td>34.0</td>\n",
       "      <td>NaN</td>\n",
       "      <td>NaN</td>\n",
       "      <td>SE</td>\n",
       "      <td>33</td>\n",
       "      <td>11:14</td>\n",
       "      <td>24.6</td>\n",
       "      <td>15</td>\n",
       "      <td>...</td>\n",
       "      <td>32.0</td>\n",
       "      <td>8</td>\n",
       "      <td>0</td>\n",
       "      <td>SW</td>\n",
       "      <td>13</td>\n",
       "      <td>1012.6</td>\n",
       "      <td>0.0</td>\n",
       "      <td>No</td>\n",
       "      <td>0.0</td>\n",
       "      <td>No</td>\n",
       "    </tr>\n",
       "    <tr>\n",
       "      <th>426</th>\n",
       "      <td>31-08-2021</td>\n",
       "      <td>7.4</td>\n",
       "      <td>34.4</td>\n",
       "      <td>NaN</td>\n",
       "      <td>NaN</td>\n",
       "      <td>E</td>\n",
       "      <td>39</td>\n",
       "      <td>15:04</td>\n",
       "      <td>23.1</td>\n",
       "      <td>15</td>\n",
       "      <td>...</td>\n",
       "      <td>33.8</td>\n",
       "      <td>10</td>\n",
       "      <td>0</td>\n",
       "      <td>E</td>\n",
       "      <td>15</td>\n",
       "      <td>1014.3</td>\n",
       "      <td>0.0</td>\n",
       "      <td>No</td>\n",
       "      <td>NaN</td>\n",
       "      <td>No</td>\n",
       "    </tr>\n",
       "  </tbody>\n",
       "</table>\n",
       "<p>427 rows × 24 columns</p>\n",
       "</div>"
      ],
      "text/plain": [
       "           Date  Minimum.temperature...C.  Maximum.temperature...C.  \\\n",
       "0    01-07-2020                      13.2                      29.0   \n",
       "1    02-07-2020                       8.6                      29.8   \n",
       "2    03-07-2020                      14.0                      27.6   \n",
       "3    04-07-2020                      12.7                      22.9   \n",
       "4    05-07-2020                      13.3                      21.5   \n",
       "..          ...                       ...                       ...   \n",
       "422  27-08-2021                       3.8                      28.9   \n",
       "423  28-08-2021                       4.1                      31.2   \n",
       "424  29-08-2021                       5.7                      33.2   \n",
       "425  30-08-2021                       8.1                      34.0   \n",
       "426  31-08-2021                       7.4                      34.4   \n",
       "\n",
       "     Evaporation..mm.  Sunshine..hours. Direction.of.maximum.wind.gust  \\\n",
       "0                 NaN               NaN                            ENE   \n",
       "1                 NaN               NaN                             NE   \n",
       "2                 NaN               NaN                            SSE   \n",
       "3                 NaN               NaN                             SE   \n",
       "4                 NaN               NaN                            SSE   \n",
       "..                ...               ...                            ...   \n",
       "422               NaN               NaN                             SE   \n",
       "423               NaN               NaN                            WSW   \n",
       "424               NaN               NaN                              E   \n",
       "425               NaN               NaN                             SE   \n",
       "426               NaN               NaN                              E   \n",
       "\n",
       "     Speed.of.maximum.wind.gust..km.h. Time.of.maximum.wind.gust  \\\n",
       "0                                   31                     09:45   \n",
       "1                                   30                     13:19   \n",
       "2                                   37                     14:11   \n",
       "3                                   46                     09:19   \n",
       "4                                   37                     02:57   \n",
       "..                                 ...                       ...   \n",
       "422                                 31                     10:01   \n",
       "423                                 26                     12:00   \n",
       "424                                 35                     11:05   \n",
       "425                                 33                     11:14   \n",
       "426                                 39                     15:04   \n",
       "\n",
       "     X9am.Temperature...C.  X9am.relative.humidity....  ...  \\\n",
       "0                     21.3                          39  ...   \n",
       "1                     18.2                          43  ...   \n",
       "2                     19.6                          40  ...   \n",
       "3                     14.9                          32  ...   \n",
       "4                     14.1                          39  ...   \n",
       "..                     ...                         ...  ...   \n",
       "422                   17.8                          18  ...   \n",
       "423                   20.0                          18  ...   \n",
       "424                   20.8                          14  ...   \n",
       "425                   24.6                          15  ...   \n",
       "426                   23.1                          15  ...   \n",
       "\n",
       "     X3pm.Temperature...C. X3pm.relative.humidity....  \\\n",
       "0                     28.3                         25   \n",
       "1                     29.4                         26   \n",
       "2                     27.0                         28   \n",
       "3                     22.2                         15   \n",
       "4                     20.6                         24   \n",
       "..                     ...                        ...   \n",
       "422                   27.5                          9   \n",
       "423                   29.8                          8   \n",
       "424                   32.4                          8   \n",
       "425                   32.0                          8   \n",
       "426                   33.8                         10   \n",
       "\n",
       "     X3pm.cloud.amount..oktas.  X3pm.wind.direction  X3pm.wind.speed..km.h.  \\\n",
       "0                            0                   NE                      13   \n",
       "1                            0                  ESE                      15   \n",
       "2                            0                    S                      28   \n",
       "3                            0                   SE                      19   \n",
       "4                            0                   SE                      19   \n",
       "..                         ...                  ...                     ...   \n",
       "422                          0                    W                      17   \n",
       "423                          0                    S                       7   \n",
       "424                          0                   SE                      17   \n",
       "425                          0                   SW                      13   \n",
       "426                          0                    E                      15   \n",
       "\n",
       "     X3pm.MSL.pressure..hPa.  Rainfall..mm. rain.today  Rainfall..mm.tmr  \\\n",
       "0                     1014.1            0.0         No               0.0   \n",
       "1                     1015.9            0.0         No               0.0   \n",
       "2                     1020.9            0.0         No               0.0   \n",
       "3                     1021.7            0.0         No               0.0   \n",
       "4                     1021.1            0.0         No               0.0   \n",
       "..                       ...            ...        ...               ...   \n",
       "422                   1014.0            0.0         No               0.0   \n",
       "423                   1012.6            0.0         No               0.0   \n",
       "424                   1012.1            0.0         No               0.0   \n",
       "425                   1012.6            0.0         No               0.0   \n",
       "426                   1014.3            0.0         No               NaN   \n",
       "\n",
       "     rain.tomorrow  \n",
       "0               No  \n",
       "1               No  \n",
       "2               No  \n",
       "3               No  \n",
       "4               No  \n",
       "..             ...  \n",
       "422             No  \n",
       "423             No  \n",
       "424             No  \n",
       "425             No  \n",
       "426             No  \n",
       "\n",
       "[427 rows x 24 columns]"
      ]
     },
     "execution_count": 2,
     "metadata": {},
     "output_type": "execute_result"
    }
   ],
   "source": [
    "import pandas as pd\n",
    "\n",
    "w_df=pd.read_csv('weather.csv')\n",
    "w_df"
   ]
  },
  {
   "cell_type": "code",
   "execution_count": 3,
   "id": "92b38c65",
   "metadata": {},
   "outputs": [
    {
     "data": {
      "text/plain": [
       "(427, 24)"
      ]
     },
     "execution_count": 3,
     "metadata": {},
     "output_type": "execute_result"
    }
   ],
   "source": [
    "w_df.shape"
   ]
  },
  {
   "cell_type": "code",
   "execution_count": 418,
   "id": "020589e8",
   "metadata": {},
   "outputs": [],
   "source": [
    "w_df.rename(columns={'rain.tomorrow':'rain_tomorrow'},inplace=True)"
   ]
  },
  {
   "cell_type": "code",
   "execution_count": 419,
   "id": "ff76a009",
   "metadata": {},
   "outputs": [
    {
     "data": {
      "text/plain": [
       "0      No\n",
       "1      No\n",
       "2      No\n",
       "3      No\n",
       "4      No\n",
       "       ..\n",
       "422    No\n",
       "423    No\n",
       "424    No\n",
       "425    No\n",
       "426    No\n",
       "Name: rain_tomorrow, Length: 427, dtype: object"
      ]
     },
     "execution_count": 419,
     "metadata": {},
     "output_type": "execute_result"
    }
   ],
   "source": [
    "w_df['rain_tomorrow']"
   ]
  },
  {
   "cell_type": "code",
   "execution_count": 420,
   "id": "7e7180f9",
   "metadata": {},
   "outputs": [],
   "source": [
    "# convert output (Y,N) to (1,0)\n",
    "\n",
    "rain_tomorrow={'Yes':1,'No':0}\n",
    "\n",
    "w_df.rain_tomorrow=[rain_tomorrow[item] for item in w_df.rain_tomorrow]"
   ]
  },
  {
   "cell_type": "markdown",
   "id": "1dc0c9e3",
   "metadata": {},
   "source": [
    "# Drop columns"
   ]
  },
  {
   "cell_type": "code",
   "execution_count": 421,
   "id": "fa9a278f",
   "metadata": {},
   "outputs": [
    {
     "data": {
      "text/plain": [
       "['Evaporation..mm.', 'Sunshine..hours.']"
      ]
     },
     "execution_count": 421,
     "metadata": {},
     "output_type": "execute_result"
    }
   ],
   "source": [
    "# remove na>50\n",
    "\n",
    "na_df=pd.DataFrame({'col_name':w_df.columns,'na_per':w_df.isnull().sum()/w_df.shape[0]*100})\n",
    "\n",
    "na_grt50=list(na_df[na_df['na_per']>50]['col_name'])\n",
    "\n",
    "na_grt50"
   ]
  },
  {
   "cell_type": "code",
   "execution_count": 422,
   "id": "30c2f4cc",
   "metadata": {},
   "outputs": [
    {
     "data": {
      "text/plain": [
       "[]"
      ]
     },
     "execution_count": 422,
     "metadata": {},
     "output_type": "execute_result"
    }
   ],
   "source": [
    "# non-sense columns\n",
    "\n",
    "non_sense=[col for col in w_df.columns if w_df[col].nunique==1 or w_df[col].nunique==w_df[col].shape[0]]\n",
    "\n",
    "non_sense"
   ]
  },
  {
   "cell_type": "code",
   "execution_count": 423,
   "id": "82e96890",
   "metadata": {},
   "outputs": [
    {
     "data": {
      "text/plain": [
       "['Evaporation..mm.', 'Sunshine..hours.']"
      ]
     },
     "execution_count": 423,
     "metadata": {},
     "output_type": "execute_result"
    }
   ],
   "source": [
    "col_to_drop=na_grt50+non_sense\n",
    "col_to_drop"
   ]
  },
  {
   "cell_type": "code",
   "execution_count": 424,
   "id": "9662dc7c",
   "metadata": {},
   "outputs": [],
   "source": [
    "# drop columns now\n",
    "\n",
    "w_df.drop(columns=col_to_drop,inplace=True)"
   ]
  },
  {
   "cell_type": "markdown",
   "id": "bd5a1ce9",
   "metadata": {},
   "source": [
    "# CHI-SQUARE"
   ]
  },
  {
   "cell_type": "code",
   "execution_count": 425,
   "id": "696133b9",
   "metadata": {},
   "outputs": [
    {
     "name": "stdout",
     "output_type": "stream",
     "text": [
      "['Direction.of.maximum.wind.gust', 'X9am.wind.direction', 'X3pm.wind.direction', 'rain.today']\n",
      "['Date', 'Time.of.maximum.wind.gust']\n"
     ]
    }
   ],
   "source": [
    "from scipy.stats import chi2_contingency\n",
    "\n",
    "con_cols=[col for col in w_df.columns if w_df[col].dtype=='int64' or w_df[col].dtype=='float64']\n",
    "\n",
    "cat_cols=[col for col in w_df.columns if w_df[col].dtype=='object']\n",
    "\n",
    "sig_val=0.05\n",
    "chi2_corr_cols=[]\n",
    "chi2_nocorr_cols=[]\n",
    "\n",
    "for col in cat_cols:\n",
    "    contingency_table=pd.crosstab(w_df[col],w_df['rain_tomorrow'])\n",
    "    p_value=chi2_contingency(contingency_table)[1]\n",
    "    if p_value<sig_val:\n",
    "        chi2_corr_cols.append(col)\n",
    "    else:\n",
    "        chi2_nocorr_cols.append(col)\n",
    "    \n",
    "print(chi2_corr_cols)\n",
    "print(chi2_nocorr_cols)\n"
   ]
  },
  {
   "cell_type": "markdown",
   "id": "8b1c5376",
   "metadata": {},
   "source": [
    "# ANOVA"
   ]
  },
  {
   "cell_type": "code",
   "execution_count": 426,
   "id": "01e14568",
   "metadata": {},
   "outputs": [
    {
     "name": "stdout",
     "output_type": "stream",
     "text": [
      "['Minimum.temperature...C.', 'Maximum.temperature...C.', 'Speed.of.maximum.wind.gust..km.h.', 'X9am.Temperature...C.', 'X9am.relative.humidity....', 'X9am.cloud.amount..oktas.', 'X9am.MSL.pressure..hPa.', 'X3pm.relative.humidity....', 'X3pm.cloud.amount..oktas.', 'X3pm.MSL.pressure..hPa.', 'rain_tomorrow']\n",
      "['X9am.wind.speed..km.h.', 'X3pm.Temperature...C.', 'X3pm.wind.speed..km.h.', 'Rainfall..mm.', 'Rainfall..mm.tmr']\n"
     ]
    }
   ],
   "source": [
    "from scipy.stats import f_oneway\n",
    "\n",
    "sig_val=0.05\n",
    "anova_corr_cols=[]\n",
    "anova_non_corr_cols=[]\n",
    "\n",
    "con_cols=[col for col in w_df.columns if w_df[col].dtype=='int64' or w_df[col].dtype=='float64']\n",
    "\n",
    "for col in con_cols:\n",
    "    y_list=list(w_df[w_df['rain_tomorrow']==1][col])\n",
    "    n_list=list(w_df[w_df['rain_tomorrow']==0][col])\n",
    "    \n",
    "    p_value=f_oneway(y_list,n_list)[1]\n",
    "    \n",
    "    if p_value<sig_val:\n",
    "        anova_corr_cols.append(col)\n",
    "    else:\n",
    "        anova_non_corr_cols.append(col)\n",
    "        \n",
    "\n",
    "print(anova_corr_cols)\n",
    "print(anova_non_corr_cols)"
   ]
  },
  {
   "cell_type": "code",
   "execution_count": 427,
   "id": "83cfddf9",
   "metadata": {},
   "outputs": [],
   "source": [
    "all_non_corr_cols=anova_non_corr_cols+chi2_nocorr_cols\n",
    "y=w_df['rain_tomorrow']\n",
    "all_non_corr_cols.append('rain_tomorrow')\n",
    "\n",
    "w_df.drop(columns=all_non_corr_cols,inplace=True)\n"
   ]
  },
  {
   "cell_type": "markdown",
   "id": "9b43a440",
   "metadata": {},
   "source": [
    "# Train-Test Split"
   ]
  },
  {
   "cell_type": "code",
   "execution_count": 428,
   "id": "7bbaf5a3",
   "metadata": {},
   "outputs": [],
   "source": [
    "from sklearn.model_selection import train_test_split\n",
    "\n",
    "x_train,x_test,y_train,y_test=train_test_split(w_df,y,train_size=0.8,random_state=42)"
   ]
  },
  {
   "cell_type": "code",
   "execution_count": 429,
   "id": "472f364b",
   "metadata": {},
   "outputs": [],
   "source": [
    "# fill NA values\n",
    "\n",
    "con_cols=[col for col in w_df.columns if w_df[col].dtype=='int64' or w_df[col].dtype=='float64']\n",
    "cat_cols=[col for col in w_df.columns if w_df[col].dtype=='object']\n",
    "\n",
    "for col in con_cols:\n",
    "    x_train[col].fillna(x_train[col].mean(),inplace=True)\n",
    "    x_test[col].fillna(x_train[col].mean(),inplace=True)\n",
    "    \n",
    "for col in cat_cols:\n",
    "    x_train[col].fillna(x_train[col].mode()[0],inplace=True)\n",
    "    x_test[col].fillna(x_train[col].mode()[0],inplace=True)\n"
   ]
  },
  {
   "cell_type": "markdown",
   "id": "404b77f6",
   "metadata": {},
   "source": [
    "# scaling"
   ]
  },
  {
   "cell_type": "code",
   "execution_count": 430,
   "id": "ab938328",
   "metadata": {},
   "outputs": [],
   "source": [
    "from sklearn.preprocessing import StandardScaler\n",
    "import numpy as np\n",
    "\n",
    "std_scalar=StandardScaler()\n",
    "\n",
    "for col in con_cols:\n",
    "    x_train[col]=std_scalar.fit_transform(np.array(x_train[col]).reshape(-1,1))\n",
    "    x_test[col]=std_scalar.transform(np.array(x_test[col]).reshape(-1,1))"
   ]
  },
  {
   "cell_type": "code",
   "execution_count": 431,
   "id": "29844809",
   "metadata": {},
   "outputs": [],
   "source": [
    "oe_train=pd.get_dummies(x_train[cat_cols])\n",
    "\n",
    "oe_test=pd.get_dummies(x_test[cat_cols])"
   ]
  },
  {
   "cell_type": "code",
   "execution_count": 432,
   "id": "58c92e2e",
   "metadata": {},
   "outputs": [
    {
     "name": "stdout",
     "output_type": "stream",
     "text": [
      "(341, 50)\n",
      "(86, 46)\n"
     ]
    }
   ],
   "source": [
    "print(oe_train.shape)\n",
    "print(oe_test.shape)"
   ]
  },
  {
   "cell_type": "code",
   "execution_count": 433,
   "id": "b49f81c8",
   "metadata": {},
   "outputs": [],
   "source": [
    "oe_train_final,oe_test_final=oe_train.align(oe_test,join='inner',axis=1)"
   ]
  },
  {
   "cell_type": "code",
   "execution_count": 434,
   "id": "68ea986a",
   "metadata": {},
   "outputs": [
    {
     "name": "stdout",
     "output_type": "stream",
     "text": [
      "(341, 46)\n",
      "(86, 46)\n"
     ]
    }
   ],
   "source": [
    "print(oe_train_final.shape)\n",
    "print(oe_test_final.shape)"
   ]
  },
  {
   "cell_type": "code",
   "execution_count": 435,
   "id": "aa88b50c",
   "metadata": {},
   "outputs": [],
   "source": [
    "x_train_final=pd.concat([x_train[con_cols],oe_train_final],axis=1)\n",
    "x_test_final=pd.concat([x_test[con_cols],oe_test_final],axis=1)"
   ]
  },
  {
   "cell_type": "markdown",
   "id": "ac0c3cad",
   "metadata": {},
   "source": [
    "# Logistic regression"
   ]
  },
  {
   "cell_type": "code",
   "execution_count": 436,
   "id": "d14d0cd4",
   "metadata": {},
   "outputs": [
    {
     "data": {
      "text/plain": [
       "LogisticRegression()"
      ]
     },
     "execution_count": 436,
     "metadata": {},
     "output_type": "execute_result"
    }
   ],
   "source": [
    "from sklearn.linear_model import LogisticRegression\n",
    "\n",
    "logreg=LogisticRegression()\n",
    "\n",
    "logreg.fit(x_train_final,y_train)"
   ]
  },
  {
   "cell_type": "code",
   "execution_count": 437,
   "id": "c8342880",
   "metadata": {},
   "outputs": [],
   "source": [
    "test_pred=logreg.predict(x_test_final)\n",
    "train_pred=logreg.predict(x_train_final)"
   ]
  },
  {
   "cell_type": "code",
   "execution_count": 438,
   "id": "51e2ec08",
   "metadata": {},
   "outputs": [],
   "source": [
    "probabs=logreg.predict_proba(x_test_final)\n",
    "\n",
    "pos_probabs=probabs[::,1]"
   ]
  },
  {
   "cell_type": "code",
   "execution_count": 439,
   "id": "039ef67b",
   "metadata": {},
   "outputs": [],
   "source": [
    "# auc-roc curve\n",
    "from sklearn.metrics import roc_curve\n",
    "\n",
    "fpr,tpr,thresholds=roc_curve(y_test,pos_probabs)"
   ]
  },
  {
   "cell_type": "code",
   "execution_count": 440,
   "id": "0f23f582",
   "metadata": {},
   "outputs": [
    {
     "data": {
      "text/plain": [
       "[<matplotlib.lines.Line2D at 0x1bff60bf8b0>]"
      ]
     },
     "execution_count": 440,
     "metadata": {},
     "output_type": "execute_result"
    },
    {
     "data": {
      "image/png": "[encoded data removed]",
      "text/plain": [
       "<Figure size 432x288 with 1 Axes>"
      ]
     },
     "metadata": {
      "needs_background": "light"
     },
     "output_type": "display_data"
    }
   ],
   "source": [
    "import matplotlib.pyplot as plt\n",
    "\n",
    "plt.plot(fpr,tpr)"
   ]
  },
  {
   "cell_type": "code",
   "execution_count": 441,
   "id": "0b5a6646",
   "metadata": {},
   "outputs": [
    {
     "data": {
      "text/plain": [
       "0.9166666666666667"
      ]
     },
     "execution_count": 441,
     "metadata": {},
     "output_type": "execute_result"
    }
   ],
   "source": [
    "from sklearn.metrics import roc_auc_score\n",
    "\n",
    "roc_auc_score(y_test,test_pred)"
   ]
  },
  {
   "cell_type": "code",
   "execution_count": 442,
   "id": "569a7ea0",
   "metadata": {},
   "outputs": [
    {
     "name": "stdout",
     "output_type": "stream",
     "text": [
      "[[318   1]\n",
      " [ 13   9]]\n",
      "[[80  0]\n",
      " [ 1  5]]\n"
     ]
    }
   ],
   "source": [
    "# confusion matrix\n",
    "\n",
    "from sklearn.metrics import confusion_matrix\n",
    "\n",
    "print(confusion_matrix(y_train,train_pred))\n",
    "print(confusion_matrix(y_test,test_pred))"
   ]
  },
  {
   "cell_type": "code",
   "execution_count": 443,
   "id": "cf63a043",
   "metadata": {},
   "outputs": [
    {
     "name": "stdout",
     "output_type": "stream",
     "text": [
      "0.9\n",
      "1.0\n"
     ]
    }
   ],
   "source": [
    "from sklearn.metrics import precision_score\n",
    "\n",
    "print(precision_score(y_train,train_pred))\n",
    "print(precision_score(y_test,test_pred))"
   ]
  },
  {
   "cell_type": "code",
   "execution_count": 444,
   "id": "77a79d07",
   "metadata": {},
   "outputs": [
    {
     "data": {
      "text/plain": [
       "0.8333333333333334"
      ]
     },
     "execution_count": 444,
     "metadata": {},
     "output_type": "execute_result"
    }
   ],
   "source": [
    "from sklearn.metrics import recall_score\n",
    "\n",
    "recall_score(y_test,test_pred)"
   ]
  },
  {
   "cell_type": "code",
   "execution_count": 445,
   "id": "cdae6783",
   "metadata": {},
   "outputs": [
    {
     "data": {
      "text/plain": [
       "0.9090909090909091"
      ]
     },
     "execution_count": 445,
     "metadata": {},
     "output_type": "execute_result"
    }
   ],
   "source": [
    "from sklearn.metrics import f1_score \n",
    "\n",
    "f1_score(y_test,test_pred)"
   ]
  },
  {
   "cell_type": "code",
   "execution_count": 446,
   "id": "ffc57847",
   "metadata": {},
   "outputs": [
    {
     "data": {
      "text/plain": [
       "0.9883720930232558"
      ]
     },
     "execution_count": 446,
     "metadata": {},
     "output_type": "execute_result"
    }
   ],
   "source": [
    "from sklearn.metrics import accuracy_score\n",
    "\n",
    "accuracy_score(y_test,test_pred) # Test accuracy"
   ]
  },
  {
   "cell_type": "code",
   "execution_count": 447,
   "id": "f956649a",
   "metadata": {},
   "outputs": [
    {
     "data": {
      "text/plain": [
       "0.9589442815249267"
      ]
     },
     "execution_count": 447,
     "metadata": {},
     "output_type": "execute_result"
    }
   ],
   "source": [
    "accuracy_score(y_train,train_pred) # Train accuracy"
   ]
  }
 ],
 "metadata": {
  "kernelspec": {
   "display_name": "Python 3",
   "language": "python",
   "name": "python3"
  },
  "language_info": {
   "codemirror_mode": {
    "name": "ipython",
    "version": 3
   },
   "file_extension": ".py",
   "mimetype": "text/x-python",
   "name": "python",
   "nbconvert_exporter": "python",
   "pygments_lexer": "ipython3",
   "version": "3.8.8"
  }
 },
 "nbformat": 4,
 "nbformat_minor": 5
}
